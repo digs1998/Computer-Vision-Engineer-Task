{
 "cells": [
  {
   "cell_type": "code",
   "execution_count": 1,
   "metadata": {},
   "outputs": [],
   "source": [
    "## Answer 2\n",
    "from threading import Thread\n",
    "from collections import deque\n",
    "from queue import Queue\n",
    "import concurrent.futures\n",
    "\n",
    "dq = deque() # queue\n",
    "\n",
    "# path = 'C://Users/Lenovo/Downloads/file.txt'\n",
    "\n",
    "class Stop:\n",
    "    def __init__(self):\n",
    "        pass\n",
    "\n",
    "def file_reader(path):\n",
    "    with open(path, \"r\") as f:\n",
    "        for line in f.readlines():\n",
    "            dq.append(line)\n",
    "\n",
    "    dq.append(Stop()) \n",
    "\n",
    "def file_writer(path):\n",
    "    line = dq.popleft()\n",
    "    with open(path, \"w\") as f:\n",
    "        while not isinstance(line, Stop):\n",
    "            f.writelines(reversed(line))\n",
    "            line = dq.popleft()\n",
    "\n",
    "\n",
    "with concurrent.futures.ThreadPoolExecutor(max_workers=2) as executor:\n",
    "    executor.submit(file_reader, \"C://Users/Lenovo/Downloads/file.txt\") # replace with file path\n",
    "    executor.submit(file_writer, \"C://Users/Lenovo/Downloads/new.txt\") # replace with file path"
   ]
  },
  {
   "cell_type": "code",
   "execution_count": 3,
   "metadata": {},
   "outputs": [],
   "source": [
    "## Answer 1\n",
    "import re\n",
    "\n",
    "file = open('C://Users/Lenovo/Downloads/newfile.txt')\n",
    "\n",
    "x = list()\n",
    "for i in file:\n",
    "    y = re.findall('[0-9]+',i)"
   ]
  },
  {
   "cell_type": "code",
   "execution_count": null,
   "metadata": {},
   "outputs": [],
   "source": []
  }
 ],
 "metadata": {
  "kernelspec": {
   "display_name": "Python 3",
   "language": "python",
   "name": "python3"
  },
  "language_info": {
   "codemirror_mode": {
    "name": "ipython",
    "version": 3
   },
   "file_extension": ".py",
   "mimetype": "text/x-python",
   "name": "python",
   "nbconvert_exporter": "python",
   "pygments_lexer": "ipython3",
   "version": "3.8.5"
  }
 },
 "nbformat": 4,
 "nbformat_minor": 4
}
